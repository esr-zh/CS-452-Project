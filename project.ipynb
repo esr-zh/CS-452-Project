{
 "cells": [
  {
   "cell_type": "code",
   "execution_count": 2,
   "id": "c2f620b9",
   "metadata": {},
   "outputs": [],
   "source": [
    "# all imports here\n",
    "import numpy as np\n",
    "import pandas as pd"
   ]
  },
  {
   "cell_type": "markdown",
   "id": "fe089036",
   "metadata": {},
   "source": [
    "## Esrah's work"
   ]
  },
  {
   "cell_type": "code",
   "execution_count": null,
   "id": "ffd744a2",
   "metadata": {},
   "outputs": [],
   "source": []
  },
  {
   "cell_type": "markdown",
   "id": "f7eece10",
   "metadata": {},
   "source": [
    "## Mohammed's work"
   ]
  },
  {
   "cell_type": "code",
   "execution_count": null,
   "id": "87239702",
   "metadata": {},
   "outputs": [],
   "source": []
  },
  {
   "cell_type": "markdown",
   "id": "e3e26807",
   "metadata": {},
   "source": [
    "## Jana's work"
   ]
  },
  {
   "cell_type": "code",
   "execution_count": null,
   "id": "4e45772d",
   "metadata": {},
   "outputs": [],
   "source": []
  }
 ],
 "metadata": {
  "kernelspec": {
   "display_name": "Python 3 (ipykernel)",
   "language": "python",
   "name": "python3"
  },
  "language_info": {
   "codemirror_mode": {
    "name": "ipython",
    "version": 3
   },
   "file_extension": ".py",
   "mimetype": "text/x-python",
   "name": "python",
   "nbconvert_exporter": "python",
   "pygments_lexer": "ipython3",
   "version": "3.9.1"
  }
 },
 "nbformat": 4,
 "nbformat_minor": 5
}
